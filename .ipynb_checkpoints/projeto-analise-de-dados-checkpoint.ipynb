{
 "cells": [
  {
   "cell_type": "markdown",
   "id": "motivated-olympus",
   "metadata": {},
   "source": [
    "# Projeto final\n",
    "\n",
    "Bem vindo ao projeto final do curso/módulo de Pandas.\n",
    "Neste projeto, você deve responder a um conjunto de perguntas feitas a dois conjuntos de dados:\n",
    "\n",
    "1. [Obesity among adults by country, 1975-2016](https://www.kaggle.com/amanarora/obesity-among-adults-by-country-19752016/)\n",
    "2. [GDP Per Person (1901-2011)](https://www.kaggle.com/divyansh22/gdp-per-person-19012011?select=GDP.csv)\n",
    "\n",
    "Tais conjuntos de dados são públicos foram publicados no Kaggle. Mais instruções sobre cada um deles podem ser encontrados nos links acima. Você também os encontrará na pasta `Datasets`, dentro de nossas apostilas."
   ]
  },
  {
   "cell_type": "code",
   "execution_count": 1,
   "id": "million-survival",
   "metadata": {},
   "outputs": [],
   "source": [
    "import pandas as pd\n",
    "import numpy as np"
   ]
  },
  {
   "cell_type": "markdown",
   "id": "becoming-princeton",
   "metadata": {},
   "source": [
    "## Perguntas - Obesity among adults by country, 1975-2016"
   ]
  },
  {
   "cell_type": "code",
   "execution_count": 2,
   "id": "formal-heater",
   "metadata": {},
   "outputs": [
    {
     "data": {
      "text/html": [
       "<div>\n",
       "<style scoped>\n",
       "    .dataframe tbody tr th:only-of-type {\n",
       "        vertical-align: middle;\n",
       "    }\n",
       "\n",
       "    .dataframe tbody tr th {\n",
       "        vertical-align: top;\n",
       "    }\n",
       "\n",
       "    .dataframe thead th {\n",
       "        text-align: right;\n",
       "    }\n",
       "</style>\n",
       "<table border=\"1\" class=\"dataframe\">\n",
       "  <thead>\n",
       "    <tr style=\"text-align: right;\">\n",
       "      <th></th>\n",
       "      <th>Country</th>\n",
       "      <th>Year</th>\n",
       "      <th>Obesity (%)</th>\n",
       "      <th>Sex</th>\n",
       "    </tr>\n",
       "  </thead>\n",
       "  <tbody>\n",
       "    <tr>\n",
       "      <th>0</th>\n",
       "      <td>Afghanistan</td>\n",
       "      <td>1975</td>\n",
       "      <td>0.5 [0.2-1.1]</td>\n",
       "      <td>Both sexes</td>\n",
       "    </tr>\n",
       "    <tr>\n",
       "      <th>1</th>\n",
       "      <td>Afghanistan</td>\n",
       "      <td>1975</td>\n",
       "      <td>0.2 [0.0-0.6]</td>\n",
       "      <td>Male</td>\n",
       "    </tr>\n",
       "    <tr>\n",
       "      <th>2</th>\n",
       "      <td>Afghanistan</td>\n",
       "      <td>1975</td>\n",
       "      <td>0.8 [0.2-2.0]</td>\n",
       "      <td>Female</td>\n",
       "    </tr>\n",
       "    <tr>\n",
       "      <th>3</th>\n",
       "      <td>Afghanistan</td>\n",
       "      <td>1976</td>\n",
       "      <td>0.5 [0.2-1.1]</td>\n",
       "      <td>Both sexes</td>\n",
       "    </tr>\n",
       "    <tr>\n",
       "      <th>4</th>\n",
       "      <td>Afghanistan</td>\n",
       "      <td>1976</td>\n",
       "      <td>0.2 [0.0-0.7]</td>\n",
       "      <td>Male</td>\n",
       "    </tr>\n",
       "    <tr>\n",
       "      <th>...</th>\n",
       "      <td>...</td>\n",
       "      <td>...</td>\n",
       "      <td>...</td>\n",
       "      <td>...</td>\n",
       "    </tr>\n",
       "    <tr>\n",
       "      <th>24565</th>\n",
       "      <td>Zimbabwe</td>\n",
       "      <td>2015</td>\n",
       "      <td>4.5 [2.4-7.6]</td>\n",
       "      <td>Male</td>\n",
       "    </tr>\n",
       "    <tr>\n",
       "      <th>24566</th>\n",
       "      <td>Zimbabwe</td>\n",
       "      <td>2015</td>\n",
       "      <td>24.8 [18.9-31.3]</td>\n",
       "      <td>Female</td>\n",
       "    </tr>\n",
       "    <tr>\n",
       "      <th>24567</th>\n",
       "      <td>Zimbabwe</td>\n",
       "      <td>2016</td>\n",
       "      <td>15.5 [12.0-19.2]</td>\n",
       "      <td>Both sexes</td>\n",
       "    </tr>\n",
       "    <tr>\n",
       "      <th>24568</th>\n",
       "      <td>Zimbabwe</td>\n",
       "      <td>2016</td>\n",
       "      <td>4.7 [2.5-8.0]</td>\n",
       "      <td>Male</td>\n",
       "    </tr>\n",
       "    <tr>\n",
       "      <th>24569</th>\n",
       "      <td>Zimbabwe</td>\n",
       "      <td>2016</td>\n",
       "      <td>25.3 [19.1-32.0]</td>\n",
       "      <td>Female</td>\n",
       "    </tr>\n",
       "  </tbody>\n",
       "</table>\n",
       "<p>24570 rows × 4 columns</p>\n",
       "</div>"
      ],
      "text/plain": [
       "           Country  Year       Obesity (%)         Sex\n",
       "0      Afghanistan  1975     0.5 [0.2-1.1]  Both sexes\n",
       "1      Afghanistan  1975     0.2 [0.0-0.6]        Male\n",
       "2      Afghanistan  1975     0.8 [0.2-2.0]      Female\n",
       "3      Afghanistan  1976     0.5 [0.2-1.1]  Both sexes\n",
       "4      Afghanistan  1976     0.2 [0.0-0.7]        Male\n",
       "...            ...   ...               ...         ...\n",
       "24565     Zimbabwe  2015     4.5 [2.4-7.6]        Male\n",
       "24566     Zimbabwe  2015  24.8 [18.9-31.3]      Female\n",
       "24567     Zimbabwe  2016  15.5 [12.0-19.2]  Both sexes\n",
       "24568     Zimbabwe  2016     4.7 [2.5-8.0]        Male\n",
       "24569     Zimbabwe  2016  25.3 [19.1-32.0]      Female\n",
       "\n",
       "[24570 rows x 4 columns]"
      ]
     },
     "execution_count": 2,
     "metadata": {},
     "output_type": "execute_result"
    }
   ],
   "source": [
    "df_obesity = pd.read_csv(\"obesity_cleaned.csv\")\n",
    "del df_obesity[\"Unnamed: 0\"]\n",
    "df_obesity"
   ]
  },
  {
   "cell_type": "markdown",
   "id": "divine-rebel",
   "metadata": {},
   "source": [
    "## - Limpe os dados do DataFrame, criando uma coluna de nome 'Obesity' que conterá os valores de obesidade. Transforme em float as colunas que porventura foram importadas como string."
   ]
  },
  {
   "cell_type": "markdown",
   "id": "3aefac56-a13d-40f6-a044-5e1b63c90e08",
   "metadata": {},
   "source": [
    "SEM compreensao em lista"
   ]
  },
  {
   "cell_type": "code",
   "execution_count": 3,
   "id": "221dd544-4c94-43ae-81f4-75e54fee59ad",
   "metadata": {},
   "outputs": [
    {
     "data": {
      "text/html": [
       "<div>\n",
       "<style scoped>\n",
       "    .dataframe tbody tr th:only-of-type {\n",
       "        vertical-align: middle;\n",
       "    }\n",
       "\n",
       "    .dataframe tbody tr th {\n",
       "        vertical-align: top;\n",
       "    }\n",
       "\n",
       "    .dataframe thead th {\n",
       "        text-align: right;\n",
       "    }\n",
       "</style>\n",
       "<table border=\"1\" class=\"dataframe\">\n",
       "  <thead>\n",
       "    <tr style=\"text-align: right;\">\n",
       "      <th></th>\n",
       "      <th>Country</th>\n",
       "      <th>Year</th>\n",
       "      <th>Obesity (%)</th>\n",
       "      <th>Sex</th>\n",
       "      <th>Obesity</th>\n",
       "    </tr>\n",
       "  </thead>\n",
       "  <tbody>\n",
       "    <tr>\n",
       "      <th>0</th>\n",
       "      <td>Afghanistan</td>\n",
       "      <td>1975</td>\n",
       "      <td>0.5 [0.2-1.1]</td>\n",
       "      <td>Both sexes</td>\n",
       "      <td>0.5</td>\n",
       "    </tr>\n",
       "    <tr>\n",
       "      <th>1</th>\n",
       "      <td>Afghanistan</td>\n",
       "      <td>1975</td>\n",
       "      <td>0.2 [0.0-0.6]</td>\n",
       "      <td>Male</td>\n",
       "      <td>0.2</td>\n",
       "    </tr>\n",
       "    <tr>\n",
       "      <th>2</th>\n",
       "      <td>Afghanistan</td>\n",
       "      <td>1975</td>\n",
       "      <td>0.8 [0.2-2.0]</td>\n",
       "      <td>Female</td>\n",
       "      <td>0.8</td>\n",
       "    </tr>\n",
       "    <tr>\n",
       "      <th>3</th>\n",
       "      <td>Afghanistan</td>\n",
       "      <td>1976</td>\n",
       "      <td>0.5 [0.2-1.1]</td>\n",
       "      <td>Both sexes</td>\n",
       "      <td>0.5</td>\n",
       "    </tr>\n",
       "    <tr>\n",
       "      <th>4</th>\n",
       "      <td>Afghanistan</td>\n",
       "      <td>1976</td>\n",
       "      <td>0.2 [0.0-0.7]</td>\n",
       "      <td>Male</td>\n",
       "      <td>0.2</td>\n",
       "    </tr>\n",
       "    <tr>\n",
       "      <th>...</th>\n",
       "      <td>...</td>\n",
       "      <td>...</td>\n",
       "      <td>...</td>\n",
       "      <td>...</td>\n",
       "      <td>...</td>\n",
       "    </tr>\n",
       "    <tr>\n",
       "      <th>24565</th>\n",
       "      <td>Zimbabwe</td>\n",
       "      <td>2015</td>\n",
       "      <td>4.5 [2.4-7.6]</td>\n",
       "      <td>Male</td>\n",
       "      <td>4.5</td>\n",
       "    </tr>\n",
       "    <tr>\n",
       "      <th>24566</th>\n",
       "      <td>Zimbabwe</td>\n",
       "      <td>2015</td>\n",
       "      <td>24.8 [18.9-31.3]</td>\n",
       "      <td>Female</td>\n",
       "      <td>24.8</td>\n",
       "    </tr>\n",
       "    <tr>\n",
       "      <th>24567</th>\n",
       "      <td>Zimbabwe</td>\n",
       "      <td>2016</td>\n",
       "      <td>15.5 [12.0-19.2]</td>\n",
       "      <td>Both sexes</td>\n",
       "      <td>15.5</td>\n",
       "    </tr>\n",
       "    <tr>\n",
       "      <th>24568</th>\n",
       "      <td>Zimbabwe</td>\n",
       "      <td>2016</td>\n",
       "      <td>4.7 [2.5-8.0]</td>\n",
       "      <td>Male</td>\n",
       "      <td>4.7</td>\n",
       "    </tr>\n",
       "    <tr>\n",
       "      <th>24569</th>\n",
       "      <td>Zimbabwe</td>\n",
       "      <td>2016</td>\n",
       "      <td>25.3 [19.1-32.0]</td>\n",
       "      <td>Female</td>\n",
       "      <td>25.3</td>\n",
       "    </tr>\n",
       "  </tbody>\n",
       "</table>\n",
       "<p>24066 rows × 5 columns</p>\n",
       "</div>"
      ],
      "text/plain": [
       "           Country  Year       Obesity (%)         Sex Obesity\n",
       "0      Afghanistan  1975     0.5 [0.2-1.1]  Both sexes     0.5\n",
       "1      Afghanistan  1975     0.2 [0.0-0.6]        Male     0.2\n",
       "2      Afghanistan  1975     0.8 [0.2-2.0]      Female     0.8\n",
       "3      Afghanistan  1976     0.5 [0.2-1.1]  Both sexes     0.5\n",
       "4      Afghanistan  1976     0.2 [0.0-0.7]        Male     0.2\n",
       "...            ...   ...               ...         ...     ...\n",
       "24565     Zimbabwe  2015     4.5 [2.4-7.6]        Male     4.5\n",
       "24566     Zimbabwe  2015  24.8 [18.9-31.3]      Female    24.8\n",
       "24567     Zimbabwe  2016  15.5 [12.0-19.2]  Both sexes    15.5\n",
       "24568     Zimbabwe  2016     4.7 [2.5-8.0]        Male     4.7\n",
       "24569     Zimbabwe  2016  25.3 [19.1-32.0]      Female    25.3\n",
       "\n",
       "[24066 rows x 5 columns]"
      ]
     },
     "execution_count": 3,
     "metadata": {},
     "output_type": "execute_result"
    }
   ],
   "source": [
    "novalista = []\n",
    "lista = list(df_obesity[\"Obesity (%)\"])\n",
    "for item in lista:\n",
    "  novalista.append( item.split()[0])\n",
    "df_obesity[\"Obesity\"] = novalista\n",
    "df_obesity2 = df_obesity[df_obesity[\"Obesity\"] == \"No\"]\n",
    "df_obesity = df_obesity.drop(df_obesity2.index)\n",
    "df_obesity[\"Obesity\"].astype(float)\n",
    "df_obesity"
   ]
  },
  {
   "cell_type": "markdown",
   "id": "0a57a50c-1521-4b09-a274-deed110dda7b",
   "metadata": {},
   "source": [
    "COM compreensao em lista"
   ]
  },
  {
   "cell_type": "code",
   "execution_count": 4,
   "id": "cubic-minneapolis",
   "metadata": {},
   "outputs": [
    {
     "data": {
      "text/plain": [
       "0         0.5\n",
       "1         0.2\n",
       "2         0.8\n",
       "3         0.5\n",
       "4         0.2\n",
       "         ... \n",
       "24565     4.5\n",
       "24566    24.8\n",
       "24567    15.5\n",
       "24568     4.7\n",
       "24569    25.3\n",
       "Name: Obesity, Length: 24066, dtype: float64"
      ]
     },
     "execution_count": 4,
     "metadata": {},
     "output_type": "execute_result"
    }
   ],
   "source": [
    "lista = list(df_obesity[\"Obesity (%)\"])\n",
    "novalista = [item.split()[0] for item in lista] # < -- compreensao em lista\n",
    "df_obesity[\"Obesity\"] = novalista\n",
    "df_obesity2 = df_obesity[df_obesity[\"Obesity\"] == \"No\"]\n",
    "df_obesity = df_obesity.drop(df_obesity2.index)\n",
    "df_obesity[\"Obesity\"] = df_obesity[\"Obesity\"].astype(float)\n",
    "df_obesity[\"Obesity\"]"
   ]
  },
  {
   "cell_type": "markdown",
   "id": "voluntary-temperature",
   "metadata": {},
   "source": [
    "- Qual o percentual médio de obesidade por sexo no mundo no ano de 2015?"
   ]
  },
  {
   "cell_type": "code",
   "execution_count": 5,
   "id": "afraid-reminder",
   "metadata": {},
   "outputs": [
    {
     "name": "stderr",
     "output_type": "stream",
     "text": [
      "C:\\Users\\zez\\AppData\\Local\\Temp\\ipykernel_5016\\2009200457.py:1: UserWarning: Boolean Series key will be reindexed to match DataFrame index.\n",
      "  men_mean = df_obesity[df_obesity[\"Sex\"] == \"Male\"][df_obesity[\"Year\"] == 2015][\"Obesity\"].mean()\n",
      "C:\\Users\\zez\\AppData\\Local\\Temp\\ipykernel_5016\\2009200457.py:2: UserWarning: Boolean Series key will be reindexed to match DataFrame index.\n",
      "  female_mean = df_obesity[df_obesity[\"Sex\"] == \"Female\"][df_obesity[\"Year\"] == 2015][\"Obesity\"].mean()\n",
      "C:\\Users\\zez\\AppData\\Local\\Temp\\ipykernel_5016\\2009200457.py:3: UserWarning: Boolean Series key will be reindexed to match DataFrame index.\n",
      "  both_mean = df_obesity[df_obesity[\"Sex\"] == \"Both sexes\"][df_obesity[\"Year\"] == 2015][\"Obesity\"].mean()\n"
     ]
    }
   ],
   "source": [
    "men_mean = df_obesity[df_obesity[\"Sex\"] == \"Male\"][df_obesity[\"Year\"] == 2015][\"Obesity\"].mean()\n",
    "female_mean = df_obesity[df_obesity[\"Sex\"] == \"Female\"][df_obesity[\"Year\"] == 2015][\"Obesity\"].mean()\n",
    "both_mean = df_obesity[df_obesity[\"Sex\"] == \"Both sexes\"][df_obesity[\"Year\"] == 2015][\"Obesity\"].mean()"
   ]
  },
  {
   "cell_type": "code",
   "execution_count": 6,
   "id": "53857f03-bbc1-403b-9881-b1ccca7b84a3",
   "metadata": {},
   "outputs": [
    {
     "data": {
      "text/html": [
       "<div>\n",
       "<style scoped>\n",
       "    .dataframe tbody tr th:only-of-type {\n",
       "        vertical-align: middle;\n",
       "    }\n",
       "\n",
       "    .dataframe tbody tr th {\n",
       "        vertical-align: top;\n",
       "    }\n",
       "\n",
       "    .dataframe thead th {\n",
       "        text-align: right;\n",
       "    }\n",
       "</style>\n",
       "<table border=\"1\" class=\"dataframe\">\n",
       "  <thead>\n",
       "    <tr style=\"text-align: right;\">\n",
       "      <th></th>\n",
       "      <th>Men</th>\n",
       "      <th>Female</th>\n",
       "      <th>Both</th>\n",
       "    </tr>\n",
       "    <tr>\n",
       "      <th>Medias</th>\n",
       "      <th></th>\n",
       "      <th></th>\n",
       "      <th></th>\n",
       "    </tr>\n",
       "  </thead>\n",
       "  <tbody>\n",
       "    <tr>\n",
       "      <th>0</th>\n",
       "      <td>15.980628</td>\n",
       "      <td>22.899476</td>\n",
       "      <td>19.508377</td>\n",
       "    </tr>\n",
       "  </tbody>\n",
       "</table>\n",
       "</div>"
      ],
      "text/plain": [
       "              Men     Female       Both\n",
       "Medias                                 \n",
       "0       15.980628  22.899476  19.508377"
      ]
     },
     "execution_count": 6,
     "metadata": {},
     "output_type": "execute_result"
    }
   ],
   "source": [
    "medias = pd.DataFrame([{\"Men\": men_mean, \"Female\":female_mean, \"Both\": both_mean}])\n",
    "medias.index.name =\"Medias\"\n",
    "medias"
   ]
  },
  {
   "cell_type": "markdown",
   "id": "expected-kruger",
   "metadata": {},
   "source": [
    "- Quais são os 5 países com a maior e a menor taxa de aumento nos índices de obesidade no período observado?"
   ]
  },
  {
   "cell_type": "code",
   "execution_count": 7,
   "id": "31ca50e4-e0e1-4508-b1a7-07bb7bbbd19e",
   "metadata": {},
   "outputs": [
    {
     "data": {
      "text/html": [
       "<div>\n",
       "<style scoped>\n",
       "    .dataframe tbody tr th:only-of-type {\n",
       "        vertical-align: middle;\n",
       "    }\n",
       "\n",
       "    .dataframe tbody tr th {\n",
       "        vertical-align: top;\n",
       "    }\n",
       "\n",
       "    .dataframe thead th {\n",
       "        text-align: right;\n",
       "    }\n",
       "</style>\n",
       "<table border=\"1\" class=\"dataframe\">\n",
       "  <thead>\n",
       "    <tr style=\"text-align: right;\">\n",
       "      <th></th>\n",
       "      <th>Country</th>\n",
       "      <th>Year</th>\n",
       "      <th>Obesity (%)</th>\n",
       "      <th>Sex</th>\n",
       "      <th>Obesity</th>\n",
       "    </tr>\n",
       "  </thead>\n",
       "  <tbody>\n",
       "    <tr>\n",
       "      <th>0</th>\n",
       "      <td>Afghanistan</td>\n",
       "      <td>1975</td>\n",
       "      <td>0.5 [0.2-1.1]</td>\n",
       "      <td>Both sexes</td>\n",
       "      <td>0.5</td>\n",
       "    </tr>\n",
       "    <tr>\n",
       "      <th>1</th>\n",
       "      <td>Afghanistan</td>\n",
       "      <td>1975</td>\n",
       "      <td>0.2 [0.0-0.6]</td>\n",
       "      <td>Male</td>\n",
       "      <td>0.2</td>\n",
       "    </tr>\n",
       "    <tr>\n",
       "      <th>2</th>\n",
       "      <td>Afghanistan</td>\n",
       "      <td>1975</td>\n",
       "      <td>0.8 [0.2-2.0]</td>\n",
       "      <td>Female</td>\n",
       "      <td>0.8</td>\n",
       "    </tr>\n",
       "    <tr>\n",
       "      <th>3</th>\n",
       "      <td>Afghanistan</td>\n",
       "      <td>1976</td>\n",
       "      <td>0.5 [0.2-1.1]</td>\n",
       "      <td>Both sexes</td>\n",
       "      <td>0.5</td>\n",
       "    </tr>\n",
       "    <tr>\n",
       "      <th>4</th>\n",
       "      <td>Afghanistan</td>\n",
       "      <td>1976</td>\n",
       "      <td>0.2 [0.0-0.7]</td>\n",
       "      <td>Male</td>\n",
       "      <td>0.2</td>\n",
       "    </tr>\n",
       "    <tr>\n",
       "      <th>...</th>\n",
       "      <td>...</td>\n",
       "      <td>...</td>\n",
       "      <td>...</td>\n",
       "      <td>...</td>\n",
       "      <td>...</td>\n",
       "    </tr>\n",
       "    <tr>\n",
       "      <th>24565</th>\n",
       "      <td>Zimbabwe</td>\n",
       "      <td>2015</td>\n",
       "      <td>4.5 [2.4-7.6]</td>\n",
       "      <td>Male</td>\n",
       "      <td>4.5</td>\n",
       "    </tr>\n",
       "    <tr>\n",
       "      <th>24566</th>\n",
       "      <td>Zimbabwe</td>\n",
       "      <td>2015</td>\n",
       "      <td>24.8 [18.9-31.3]</td>\n",
       "      <td>Female</td>\n",
       "      <td>24.8</td>\n",
       "    </tr>\n",
       "    <tr>\n",
       "      <th>24567</th>\n",
       "      <td>Zimbabwe</td>\n",
       "      <td>2016</td>\n",
       "      <td>15.5 [12.0-19.2]</td>\n",
       "      <td>Both sexes</td>\n",
       "      <td>15.5</td>\n",
       "    </tr>\n",
       "    <tr>\n",
       "      <th>24568</th>\n",
       "      <td>Zimbabwe</td>\n",
       "      <td>2016</td>\n",
       "      <td>4.7 [2.5-8.0]</td>\n",
       "      <td>Male</td>\n",
       "      <td>4.7</td>\n",
       "    </tr>\n",
       "    <tr>\n",
       "      <th>24569</th>\n",
       "      <td>Zimbabwe</td>\n",
       "      <td>2016</td>\n",
       "      <td>25.3 [19.1-32.0]</td>\n",
       "      <td>Female</td>\n",
       "      <td>25.3</td>\n",
       "    </tr>\n",
       "  </tbody>\n",
       "</table>\n",
       "<p>24066 rows × 5 columns</p>\n",
       "</div>"
      ],
      "text/plain": [
       "           Country  Year       Obesity (%)         Sex  Obesity\n",
       "0      Afghanistan  1975     0.5 [0.2-1.1]  Both sexes      0.5\n",
       "1      Afghanistan  1975     0.2 [0.0-0.6]        Male      0.2\n",
       "2      Afghanistan  1975     0.8 [0.2-2.0]      Female      0.8\n",
       "3      Afghanistan  1976     0.5 [0.2-1.1]  Both sexes      0.5\n",
       "4      Afghanistan  1976     0.2 [0.0-0.7]        Male      0.2\n",
       "...            ...   ...               ...         ...      ...\n",
       "24565     Zimbabwe  2015     4.5 [2.4-7.6]        Male      4.5\n",
       "24566     Zimbabwe  2015  24.8 [18.9-31.3]      Female     24.8\n",
       "24567     Zimbabwe  2016  15.5 [12.0-19.2]  Both sexes     15.5\n",
       "24568     Zimbabwe  2016     4.7 [2.5-8.0]        Male      4.7\n",
       "24569     Zimbabwe  2016  25.3 [19.1-32.0]      Female     25.3\n",
       "\n",
       "[24066 rows x 5 columns]"
      ]
     },
     "execution_count": 7,
     "metadata": {},
     "output_type": "execute_result"
    }
   ],
   "source": [
    "df_obesity"
   ]
  },
  {
   "cell_type": "markdown",
   "id": "efficient-buyer",
   "metadata": {},
   "source": [
    "- Quais os países com maiores e menores níveis percetuais de obesidade em 2015?"
   ]
  },
  {
   "cell_type": "markdown",
   "id": "b7200169-cda9-4a11-ae8a-8622f03ec8fa",
   "metadata": {},
   "source": [
    "Baixo - Viet Nam - 1.5\n",
    "Maior - Nauru - 63.1"
   ]
  },
  {
   "cell_type": "code",
   "execution_count": null,
   "id": "violent-warren",
   "metadata": {},
   "outputs": [],
   "source": [
    "percentualmin2015 = df_obesity[df_obesity [\"Year\"] == 2015][\"Obesity\"].min()\n",
    "nationlow2015 = df_obesity[df_obesity [\"Year\"] == 2015][df_obesity[\"Obesity\"] == percentualmin2015][\"Country\"]\n",
    "parcentualhigh2015 = df_obesity[df_obesity [\"Year\"] == 2015][\"Obesity\"].max()\n",
    "nationhigh2015 = df_obesity[df_obesity [\"Year\"] == 2015][df_obesity[\"Obesity\"] == parcentualhigh2015][\"Country\"]"
   ]
  },
  {
   "cell_type": "code",
   "execution_count": 44,
   "id": "bdc13649-ef17-44da-8c3c-fd2f0f20d5e0",
   "metadata": {},
   "outputs": [
    {
     "data": {
      "text/html": [
       "<div>\n",
       "<style scoped>\n",
       "    .dataframe tbody tr th:only-of-type {\n",
       "        vertical-align: middle;\n",
       "    }\n",
       "\n",
       "    .dataframe tbody tr th {\n",
       "        vertical-align: top;\n",
       "    }\n",
       "\n",
       "    .dataframe thead th {\n",
       "        text-align: right;\n",
       "    }\n",
       "</style>\n",
       "<table border=\"1\" class=\"dataframe\">\n",
       "  <thead>\n",
       "    <tr style=\"text-align: right;\">\n",
       "      <th></th>\n",
       "      <th>Nauru</th>\n",
       "      <th>Viet Nam</th>\n",
       "    </tr>\n",
       "    <tr>\n",
       "      <th>-</th>\n",
       "      <th></th>\n",
       "      <th></th>\n",
       "    </tr>\n",
       "  </thead>\n",
       "  <tbody>\n",
       "    <tr>\n",
       "      <th>Porcentagem de Obesidade em 2015</th>\n",
       "      <td>63.1</td>\n",
       "      <td>1.5</td>\n",
       "    </tr>\n",
       "  </tbody>\n",
       "</table>\n",
       "</div>"
      ],
      "text/plain": [
       "                                  Nauru  Viet Nam\n",
       "-                                                \n",
       "Porcentagem de Obesidade em 2015   63.1       1.5"
      ]
     },
     "execution_count": 44,
     "metadata": {},
     "output_type": "execute_result"
    }
   ],
   "source": [
    "df_2015data = pd.DataFrame([{\"Nauru\":parcentualhigh2015, \"Viet Nam\": percentualmin2015, \"-\": \"Porcentagem de Obesidade em 2015\"}])\n",
    "df_2015data = df_2015data.set_index(\"-\")\n",
    "df_2015data"
   ]
  },
  {
   "cell_type": "markdown",
   "id": "average-holiday",
   "metadata": {},
   "source": [
    "- Qual a diferença média percentual de obesidade entre sexos ao longo dos anos para o Brasil?"
   ]
  },
  {
   "cell_type": "code",
   "execution_count": null,
   "id": "later-occurrence",
   "metadata": {},
   "outputs": [],
   "source": [
    "df_brasil = df_obesity[df_obesity[\"Country\"] == \"Brazil\"]\n",
    "df_brasil[\"Variação em %\"] = (df_brasil[\"Obesity\"]/df_brasil[\"Obesity\"].shift(1) - 1)\n",
    "df_brasil = df_brasil.fillna(0)\n"
   ]
  },
  {
   "cell_type": "code",
   "execution_count": 119,
   "id": "6de575a7-626c-421b-ad89-e57dee92e4b8",
   "metadata": {},
   "outputs": [
    {
     "data": {
      "text/html": [
       "<div>\n",
       "<style scoped>\n",
       "    .dataframe tbody tr th:only-of-type {\n",
       "        vertical-align: middle;\n",
       "    }\n",
       "\n",
       "    .dataframe tbody tr th {\n",
       "        vertical-align: top;\n",
       "    }\n",
       "\n",
       "    .dataframe thead th {\n",
       "        text-align: right;\n",
       "    }\n",
       "</style>\n",
       "<table border=\"1\" class=\"dataframe\">\n",
       "  <thead>\n",
       "    <tr style=\"text-align: right;\">\n",
       "      <th></th>\n",
       "      <th>Country</th>\n",
       "      <th>Year</th>\n",
       "      <th>Obesity (%)</th>\n",
       "      <th>Sex</th>\n",
       "      <th>Obesity</th>\n",
       "      <th>Variação em %</th>\n",
       "    </tr>\n",
       "  </thead>\n",
       "  <tbody>\n",
       "    <tr>\n",
       "      <th>2898</th>\n",
       "      <td>Brazil</td>\n",
       "      <td>1975</td>\n",
       "      <td>5.2 [3.3-7.9]</td>\n",
       "      <td>Both sexes</td>\n",
       "      <td>5.2</td>\n",
       "      <td>0.000000</td>\n",
       "    </tr>\n",
       "    <tr>\n",
       "      <th>2899</th>\n",
       "      <td>Brazil</td>\n",
       "      <td>1975</td>\n",
       "      <td>3.0 [1.4-5.7]</td>\n",
       "      <td>Male</td>\n",
       "      <td>3.0</td>\n",
       "      <td>-0.423077</td>\n",
       "    </tr>\n",
       "    <tr>\n",
       "      <th>2900</th>\n",
       "      <td>Brazil</td>\n",
       "      <td>1975</td>\n",
       "      <td>7.3 [4.0-12.0]</td>\n",
       "      <td>Female</td>\n",
       "      <td>7.3</td>\n",
       "      <td>1.433333</td>\n",
       "    </tr>\n",
       "    <tr>\n",
       "      <th>2901</th>\n",
       "      <td>Brazil</td>\n",
       "      <td>1976</td>\n",
       "      <td>5.5 [3.5-8.1]</td>\n",
       "      <td>Both sexes</td>\n",
       "      <td>5.5</td>\n",
       "      <td>-0.246575</td>\n",
       "    </tr>\n",
       "    <tr>\n",
       "      <th>2902</th>\n",
       "      <td>Brazil</td>\n",
       "      <td>1976</td>\n",
       "      <td>3.2 [1.5-5.8]</td>\n",
       "      <td>Male</td>\n",
       "      <td>3.2</td>\n",
       "      <td>-0.418182</td>\n",
       "    </tr>\n",
       "    <tr>\n",
       "      <th>...</th>\n",
       "      <td>...</td>\n",
       "      <td>...</td>\n",
       "      <td>...</td>\n",
       "      <td>...</td>\n",
       "      <td>...</td>\n",
       "      <td>...</td>\n",
       "    </tr>\n",
       "    <tr>\n",
       "      <th>3019</th>\n",
       "      <td>Brazil</td>\n",
       "      <td>2015</td>\n",
       "      <td>18.0 [13.9-22.6]</td>\n",
       "      <td>Male</td>\n",
       "      <td>18.0</td>\n",
       "      <td>-0.166667</td>\n",
       "    </tr>\n",
       "    <tr>\n",
       "      <th>3020</th>\n",
       "      <td>Brazil</td>\n",
       "      <td>2015</td>\n",
       "      <td>24.9 [20.3-29.8]</td>\n",
       "      <td>Female</td>\n",
       "      <td>24.9</td>\n",
       "      <td>0.383333</td>\n",
       "    </tr>\n",
       "    <tr>\n",
       "      <th>3021</th>\n",
       "      <td>Brazil</td>\n",
       "      <td>2016</td>\n",
       "      <td>22.1 [18.7-25.7]</td>\n",
       "      <td>Both sexes</td>\n",
       "      <td>22.1</td>\n",
       "      <td>-0.112450</td>\n",
       "    </tr>\n",
       "    <tr>\n",
       "      <th>3022</th>\n",
       "      <td>Brazil</td>\n",
       "      <td>2016</td>\n",
       "      <td>18.5 [14.1-23.5]</td>\n",
       "      <td>Male</td>\n",
       "      <td>18.5</td>\n",
       "      <td>-0.162896</td>\n",
       "    </tr>\n",
       "    <tr>\n",
       "      <th>3023</th>\n",
       "      <td>Brazil</td>\n",
       "      <td>2016</td>\n",
       "      <td>25.4 [20.4-30.7]</td>\n",
       "      <td>Female</td>\n",
       "      <td>25.4</td>\n",
       "      <td>0.372973</td>\n",
       "    </tr>\n",
       "  </tbody>\n",
       "</table>\n",
       "<p>126 rows × 6 columns</p>\n",
       "</div>"
      ],
      "text/plain": [
       "     Country  Year       Obesity (%)         Sex  Obesity  Variação em %\n",
       "2898  Brazil  1975     5.2 [3.3-7.9]  Both sexes      5.2       0.000000\n",
       "2899  Brazil  1975     3.0 [1.4-5.7]        Male      3.0      -0.423077\n",
       "2900  Brazil  1975    7.3 [4.0-12.0]      Female      7.3       1.433333\n",
       "2901  Brazil  1976     5.5 [3.5-8.1]  Both sexes      5.5      -0.246575\n",
       "2902  Brazil  1976     3.2 [1.5-5.8]        Male      3.2      -0.418182\n",
       "...      ...   ...               ...         ...      ...            ...\n",
       "3019  Brazil  2015  18.0 [13.9-22.6]        Male     18.0      -0.166667\n",
       "3020  Brazil  2015  24.9 [20.3-29.8]      Female     24.9       0.383333\n",
       "3021  Brazil  2016  22.1 [18.7-25.7]  Both sexes     22.1      -0.112450\n",
       "3022  Brazil  2016  18.5 [14.1-23.5]        Male     18.5      -0.162896\n",
       "3023  Brazil  2016  25.4 [20.4-30.7]      Female     25.4       0.372973\n",
       "\n",
       "[126 rows x 6 columns]"
      ]
     },
     "execution_count": 119,
     "metadata": {},
     "output_type": "execute_result"
    }
   ],
   "source": [
    "df_brasil"
   ]
  },
  {
   "cell_type": "markdown",
   "id": "rising-exhaust",
   "metadata": {},
   "source": [
    "- Você conseguiria plotar um gráfico mostrando a evolução da obesidade para ambos sexos no mundo?"
   ]
  },
  {
   "cell_type": "code",
   "execution_count": null,
   "id": "senior-recruitment",
   "metadata": {},
   "outputs": [],
   "source": [
    "df_both.plot()"
   ]
  },
  {
   "cell_type": "markdown",
   "id": "labeled-rainbow",
   "metadata": {},
   "source": [
    "## Perguntas - GDP Per Person (1901-2011)"
   ]
  },
  {
   "cell_type": "code",
   "execution_count": null,
   "id": "thermal-breeding",
   "metadata": {},
   "outputs": [],
   "source": [
    "df_gdp = pd.read_csv(\"Datasets/GDP.csv\", decimal=\".\")"
   ]
  },
  {
   "cell_type": "markdown",
   "id": "suffering-guitar",
   "metadata": {},
   "source": [
    "- Limpe o conjunto de dados, convertendo strings em datas ou float, quando necessário."
   ]
  },
  {
   "cell_type": "code",
   "execution_count": null,
   "id": "fundamental-occasions",
   "metadata": {},
   "outputs": [],
   "source": []
  },
  {
   "cell_type": "markdown",
   "id": "studied-validity",
   "metadata": {},
   "source": [
    "- Você conseguiria informar o primeiro valor registrado de cada país?"
   ]
  },
  {
   "cell_type": "code",
   "execution_count": null,
   "id": "frequent-rental",
   "metadata": {},
   "outputs": [],
   "source": []
  },
  {
   "cell_type": "markdown",
   "id": "tutorial-softball",
   "metadata": {},
   "source": [
    "- Informe as regiões com maiores crescimentos de PIB per capita no século passado."
   ]
  },
  {
   "cell_type": "code",
   "execution_count": null,
   "id": "given-colorado",
   "metadata": {},
   "outputs": [],
   "source": []
  },
  {
   "cell_type": "markdown",
   "id": "textile-afternoon",
   "metadata": {},
   "source": [
    "- Preecha os anos ausentes em cada país com uma estimativa, baseada na diferença entre o próximo registro e o anterior."
   ]
  },
  {
   "cell_type": "code",
   "execution_count": null,
   "id": "hydraulic-confidentiality",
   "metadata": {},
   "outputs": [],
   "source": []
  },
  {
   "cell_type": "markdown",
   "id": "revised-helicopter",
   "metadata": {},
   "source": [
    "### DESAFIOS\n",
    "- Você conseguiria criar um mapa do gdp ou da obesidade no mundo ao longo dos anos?"
   ]
  },
  {
   "cell_type": "code",
   "execution_count": null,
   "id": "advised-sample",
   "metadata": {},
   "outputs": [],
   "source": []
  },
  {
   "cell_type": "markdown",
   "id": "lesbian-flight",
   "metadata": {},
   "source": [
    "- Há uma relação entre níveis de obesidade e gdp per capita?"
   ]
  },
  {
   "cell_type": "code",
   "execution_count": null,
   "id": "fluid-enemy",
   "metadata": {},
   "outputs": [],
   "source": []
  }
 ],
 "metadata": {
  "kernelspec": {
   "display_name": "Python 3 (ipykernel)",
   "language": "python",
   "name": "python3"
  },
  "language_info": {
   "codemirror_mode": {
    "name": "ipython",
    "version": 3
   },
   "file_extension": ".py",
   "mimetype": "text/x-python",
   "name": "python",
   "nbconvert_exporter": "python",
   "pygments_lexer": "ipython3",
   "version": "3.10.9"
  }
 },
 "nbformat": 4,
 "nbformat_minor": 5
}
